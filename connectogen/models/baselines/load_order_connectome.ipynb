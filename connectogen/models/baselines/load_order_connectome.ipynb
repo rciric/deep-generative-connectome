{
 "cells": [
  {
   "cell_type": "code",
   "execution_count": 3,
   "metadata": {},
   "outputs": [
    {
     "name": "stdout",
     "output_type": "stream",
     "text": [
      "/home/gustavo/Downloads/preprocessed_connectomes/derivatives/ds000233\n",
      "/home/gustavo/Downloads/preprocessed_connectomes/derivatives/ds000148\n",
      "/home/gustavo/Downloads/preprocessed_connectomes/derivatives/ds000168\n",
      "/home/gustavo/Downloads/preprocessed_connectomes/derivatives/ds000218\n"
     ]
    },
    {
     "name": "stderr",
     "output_type": "stream",
     "text": [
      "/home/gustavo/anaconda2/lib/python2.7/site-packages/ipykernel_launcher.py:26: UserWarning: loadtxt: Empty input file: \"/home/gustavo/Downloads/preprocessed_connectomes/derivatives/ds000218/sub-17_ses-pre_task-ONSflavourtask_run-03_desc-schaefer100x7_connectome.1D\"\n",
      "/home/gustavo/anaconda2/lib/python2.7/site-packages/ipykernel_launcher.py:26: UserWarning: loadtxt: Empty input file: \"/home/gustavo/Downloads/preprocessed_connectomes/derivatives/ds000218/sub-07_ses-pre_task-ONSflavourtask_run-01_desc-schaefer100x7_connectome.1D\"\n",
      "/home/gustavo/anaconda2/lib/python2.7/site-packages/ipykernel_launcher.py:26: UserWarning: loadtxt: Empty input file: \"/home/gustavo/Downloads/preprocessed_connectomes/derivatives/ds000218/sub-12_ses-pre_task-ONSflavourtask_run-01_desc-schaefer100x7_connectome.1D\"\n",
      "/home/gustavo/anaconda2/lib/python2.7/site-packages/ipykernel_launcher.py:26: UserWarning: loadtxt: Empty input file: \"/home/gustavo/Downloads/preprocessed_connectomes/derivatives/ds000218/sub-02_ses-pre_task-ONSflavourtask_run-02_desc-schaefer100x7_connectome.1D\"\n",
      "/home/gustavo/anaconda2/lib/python2.7/site-packages/ipykernel_launcher.py:26: UserWarning: loadtxt: Empty input file: \"/home/gustavo/Downloads/preprocessed_connectomes/derivatives/ds000218/sub-07_ses-pre_task-ONSflavourtask_run-03_desc-schaefer100x7_connectome.1D\"\n",
      "/home/gustavo/anaconda2/lib/python2.7/site-packages/ipykernel_launcher.py:26: UserWarning: loadtxt: Empty input file: \"/home/gustavo/Downloads/preprocessed_connectomes/derivatives/ds000218/sub-02_ses-pre_task-ONSflavourtask_run-03_desc-schaefer100x7_connectome.1D\"\n",
      "/home/gustavo/anaconda2/lib/python2.7/site-packages/ipykernel_launcher.py:26: UserWarning: loadtxt: Empty input file: \"/home/gustavo/Downloads/preprocessed_connectomes/derivatives/ds000218/sub-12_ses-pre_task-ONSflavourtask_run-02_desc-schaefer100x7_connectome.1D\"\n",
      "/home/gustavo/anaconda2/lib/python2.7/site-packages/ipykernel_launcher.py:26: UserWarning: loadtxt: Empty input file: \"/home/gustavo/Downloads/preprocessed_connectomes/derivatives/ds000218/sub-12_ses-pre_task-ONSflavourtask_run-03_desc-schaefer100x7_connectome.1D\"\n",
      "/home/gustavo/anaconda2/lib/python2.7/site-packages/ipykernel_launcher.py:26: UserWarning: loadtxt: Empty input file: \"/home/gustavo/Downloads/preprocessed_connectomes/derivatives/ds000218/sub-17_ses-pre_task-ONSflavourtask_run-01_desc-schaefer100x7_connectome.1D\"\n",
      "/home/gustavo/anaconda2/lib/python2.7/site-packages/ipykernel_launcher.py:26: UserWarning: loadtxt: Empty input file: \"/home/gustavo/Downloads/preprocessed_connectomes/derivatives/ds000218/sub-17_ses-pre_task-ONSflavourtask_run-02_desc-schaefer100x7_connectome.1D\"\n",
      "/home/gustavo/anaconda2/lib/python2.7/site-packages/ipykernel_launcher.py:26: UserWarning: loadtxt: Empty input file: \"/home/gustavo/Downloads/preprocessed_connectomes/derivatives/ds000218/sub-07_ses-pre_task-ONSflavourtask_run-02_desc-schaefer100x7_connectome.1D\"\n",
      "/home/gustavo/anaconda2/lib/python2.7/site-packages/ipykernel_launcher.py:26: UserWarning: loadtxt: Empty input file: \"/home/gustavo/Downloads/preprocessed_connectomes/derivatives/ds000218/sub-02_ses-pre_task-ONSflavourtask_run-01_desc-schaefer100x7_connectome.1D\"\n"
     ]
    },
    {
     "name": "stdout",
     "output_type": "stream",
     "text": [
      "/home/gustavo/Downloads/preprocessed_connectomes/derivatives/ds000170\n",
      "/home/gustavo/Downloads/preprocessed_connectomes/derivatives/ds000052\n",
      "/home/gustavo/Downloads/preprocessed_connectomes/derivatives/ds000110\n",
      "/home/gustavo/Downloads/preprocessed_connectomes/derivatives/ds000216\n",
      "/home/gustavo/Downloads/preprocessed_connectomes/derivatives/ds000001\n",
      "/home/gustavo/Downloads/preprocessed_connectomes/derivatives/ds000108\n",
      "/home/gustavo/Downloads/preprocessed_connectomes/derivatives/ds000232\n",
      "/home/gustavo/Downloads/preprocessed_connectomes/derivatives/ds000030\n",
      "/home/gustavo/Downloads/preprocessed_connectomes/derivatives/ds000172\n",
      "/home/gustavo/Downloads/preprocessed_connectomes/derivatives/ds000217\n"
     ]
    },
    {
     "name": "stderr",
     "output_type": "stream",
     "text": [
      "/home/gustavo/anaconda2/lib/python2.7/site-packages/ipykernel_launcher.py:26: UserWarning: loadtxt: Empty input file: \"/home/gustavo/Downloads/preprocessed_connectomes/derivatives/ds000217/sub-Exp1s15_ses-pre_task-localizer_run-14_desc-schaefer100x7_connectome.1D\"\n"
     ]
    },
    {
     "name": "stdout",
     "output_type": "stream",
     "text": [
      "/home/gustavo/Downloads/preprocessed_connectomes/derivatives/ds000224\n"
     ]
    },
    {
     "name": "stderr",
     "output_type": "stream",
     "text": [
      "/home/gustavo/anaconda2/lib/python2.7/site-packages/ipykernel_launcher.py:26: UserWarning: loadtxt: Empty input file: \"/home/gustavo/Downloads/preprocessed_connectomes/derivatives/ds000224/sub-MSC08_ses-func07_task-rest_run-01_desc-schaefer100x7_connectome.1D\"\n",
      "/home/gustavo/anaconda2/lib/python2.7/site-packages/ipykernel_launcher.py:26: UserWarning: loadtxt: Empty input file: \"/home/gustavo/Downloads/preprocessed_connectomes/derivatives/ds000224/sub-MSC10_ses-func01_task-glasslexical_run-02_desc-schaefer100x7_connectome.1D\"\n",
      "/home/gustavo/anaconda2/lib/python2.7/site-packages/ipykernel_launcher.py:26: UserWarning: loadtxt: Empty input file: \"/home/gustavo/Downloads/preprocessed_connectomes/derivatives/ds000224/sub-MSC08_ses-func09_task-rest_run-01_desc-schaefer100x7_connectome.1D\"\n",
      "/home/gustavo/anaconda2/lib/python2.7/site-packages/ipykernel_launcher.py:26: UserWarning: loadtxt: Empty input file: \"/home/gustavo/Downloads/preprocessed_connectomes/derivatives/ds000224/sub-MSC10_ses-func01_task-glasslexical_run-01_desc-schaefer100x7_connectome.1D\"\n",
      "/home/gustavo/anaconda2/lib/python2.7/site-packages/ipykernel_launcher.py:26: UserWarning: loadtxt: Empty input file: \"/home/gustavo/Downloads/preprocessed_connectomes/derivatives/ds000224/sub-MSC08_ses-func09_task-glasslexical_run-01_desc-schaefer100x7_connectome.1D\"\n",
      "/home/gustavo/anaconda2/lib/python2.7/site-packages/ipykernel_launcher.py:26: UserWarning: loadtxt: Empty input file: \"/home/gustavo/Downloads/preprocessed_connectomes/derivatives/ds000224/sub-MSC08_ses-func09_task-glasslexical_run-02_desc-schaefer100x7_connectome.1D\"\n",
      "/home/gustavo/anaconda2/lib/python2.7/site-packages/ipykernel_launcher.py:26: UserWarning: loadtxt: Empty input file: \"/home/gustavo/Downloads/preprocessed_connectomes/derivatives/ds000224/sub-MSC08_ses-func06_task-memoryscenes_run-02_desc-schaefer100x7_connectome.1D\"\n",
      "/home/gustavo/anaconda2/lib/python2.7/site-packages/ipykernel_launcher.py:26: UserWarning: loadtxt: Empty input file: \"/home/gustavo/Downloads/preprocessed_connectomes/derivatives/ds000224/sub-MSC08_ses-func04_task-rest_run-01_desc-schaefer100x7_connectome.1D\"\n",
      "/home/gustavo/anaconda2/lib/python2.7/site-packages/ipykernel_launcher.py:26: UserWarning: loadtxt: Empty input file: \"/home/gustavo/Downloads/preprocessed_connectomes/derivatives/ds000224/sub-MSC08_ses-func10_task-glasslexical_run-01_desc-schaefer100x7_connectome.1D\"\n"
     ]
    },
    {
     "name": "stdout",
     "output_type": "stream",
     "text": [
      "/home/gustavo/Downloads/preprocessed_connectomes/derivatives/ds000158\n",
      "/home/gustavo/Downloads/preprocessed_connectomes/derivatives/ds000212\n",
      "/home/gustavo/Downloads/preprocessed_connectomes/derivatives/ds000119\n",
      "/home/gustavo/Downloads/preprocessed_connectomes/derivatives/ds000114\n",
      "/home/gustavo/Downloads/preprocessed_connectomes/derivatives/ds000177\n",
      "/home/gustavo/Downloads/preprocessed_connectomes/derivatives/ds000011\n",
      "/home/gustavo/Downloads/preprocessed_connectomes/derivatives/ds000109\n",
      "/home/gustavo/Downloads/preprocessed_connectomes/derivatives/ds000116\n",
      "/home/gustavo/Downloads/preprocessed_connectomes/derivatives/ds000102\n",
      "/home/gustavo/Downloads/preprocessed_connectomes/derivatives/ds000009\n",
      "/home/gustavo/Downloads/preprocessed_connectomes/derivatives/ds000007\n",
      "/home/gustavo/Downloads/preprocessed_connectomes/derivatives/ds000133\n",
      "/home/gustavo/Downloads/preprocessed_connectomes/derivatives/ds000219\n"
     ]
    },
    {
     "name": "stderr",
     "output_type": "stream",
     "text": [
      "/home/gustavo/anaconda2/lib/python2.7/site-packages/ipykernel_launcher.py:26: UserWarning: loadtxt: Empty input file: \"/home/gustavo/Downloads/preprocessed_connectomes/derivatives/ds000219/sub-04_ses-pre_task-RPflavourtask_run-03_desc-schaefer100x7_connectome.1D\"\n",
      "/home/gustavo/anaconda2/lib/python2.7/site-packages/ipykernel_launcher.py:26: UserWarning: loadtxt: Empty input file: \"/home/gustavo/Downloads/preprocessed_connectomes/derivatives/ds000219/sub-09_ses-pre_task-RPflavourtask_run-04_desc-schaefer100x7_connectome.1D\"\n",
      "/home/gustavo/anaconda2/lib/python2.7/site-packages/ipykernel_launcher.py:26: UserWarning: loadtxt: Empty input file: \"/home/gustavo/Downloads/preprocessed_connectomes/derivatives/ds000219/sub-09_ses-pre_task-RPflavourtask_run-03_desc-schaefer100x7_connectome.1D\"\n",
      "/home/gustavo/anaconda2/lib/python2.7/site-packages/ipykernel_launcher.py:26: UserWarning: loadtxt: Empty input file: \"/home/gustavo/Downloads/preprocessed_connectomes/derivatives/ds000219/sub-09_ses-pre_task-RPflavourtask_run-02_desc-schaefer100x7_connectome.1D\"\n",
      "/home/gustavo/anaconda2/lib/python2.7/site-packages/ipykernel_launcher.py:26: UserWarning: loadtxt: Empty input file: \"/home/gustavo/Downloads/preprocessed_connectomes/derivatives/ds000219/sub-04_ses-pre_task-RPflavourtask_run-02_desc-schaefer100x7_connectome.1D\"\n",
      "/home/gustavo/anaconda2/lib/python2.7/site-packages/ipykernel_launcher.py:26: UserWarning: loadtxt: Empty input file: \"/home/gustavo/Downloads/preprocessed_connectomes/derivatives/ds000219/sub-09_ses-pre_task-RPflavourtask_run-01_desc-schaefer100x7_connectome.1D\"\n",
      "/home/gustavo/anaconda2/lib/python2.7/site-packages/ipykernel_launcher.py:26: UserWarning: loadtxt: Empty input file: \"/home/gustavo/Downloads/preprocessed_connectomes/derivatives/ds000219/sub-10_ses-pre_task-RPflavourtask_run-01_desc-schaefer100x7_connectome.1D\"\n",
      "/home/gustavo/anaconda2/lib/python2.7/site-packages/ipykernel_launcher.py:26: UserWarning: loadtxt: Empty input file: \"/home/gustavo/Downloads/preprocessed_connectomes/derivatives/ds000219/sub-10_ses-pre_task-RPflavourtask_run-02_desc-schaefer100x7_connectome.1D\"\n",
      "/home/gustavo/anaconda2/lib/python2.7/site-packages/ipykernel_launcher.py:26: UserWarning: loadtxt: Empty input file: \"/home/gustavo/Downloads/preprocessed_connectomes/derivatives/ds000219/sub-12_ses-pre_task-RPflavourtask_run-04_desc-schaefer100x7_connectome.1D\"\n",
      "/home/gustavo/anaconda2/lib/python2.7/site-packages/ipykernel_launcher.py:26: UserWarning: loadtxt: Empty input file: \"/home/gustavo/Downloads/preprocessed_connectomes/derivatives/ds000219/sub-10_ses-pre_task-RPflavourtask_run-04_desc-schaefer100x7_connectome.1D\"\n",
      "/home/gustavo/anaconda2/lib/python2.7/site-packages/ipykernel_launcher.py:26: UserWarning: loadtxt: Empty input file: \"/home/gustavo/Downloads/preprocessed_connectomes/derivatives/ds000219/sub-12_ses-pre_task-RPflavourtask_run-03_desc-schaefer100x7_connectome.1D\"\n",
      "/home/gustavo/anaconda2/lib/python2.7/site-packages/ipykernel_launcher.py:26: UserWarning: loadtxt: Empty input file: \"/home/gustavo/Downloads/preprocessed_connectomes/derivatives/ds000219/sub-04_ses-pre_task-RPflavourtask_run-04_desc-schaefer100x7_connectome.1D\"\n",
      "/home/gustavo/anaconda2/lib/python2.7/site-packages/ipykernel_launcher.py:26: UserWarning: loadtxt: Empty input file: \"/home/gustavo/Downloads/preprocessed_connectomes/derivatives/ds000219/sub-12_ses-pre_task-RPflavourtask_run-02_desc-schaefer100x7_connectome.1D\"\n",
      "/home/gustavo/anaconda2/lib/python2.7/site-packages/ipykernel_launcher.py:26: UserWarning: loadtxt: Empty input file: \"/home/gustavo/Downloads/preprocessed_connectomes/derivatives/ds000219/sub-12_ses-pre_task-RPflavourtask_run-01_desc-schaefer100x7_connectome.1D\"\n"
     ]
    },
    {
     "name": "stdout",
     "output_type": "stream",
     "text": [
      "/home/gustavo/Downloads/preprocessed_connectomes/derivatives/ds000005\n",
      "/home/gustavo/Downloads/preprocessed_connectomes/derivatives/ds000115\n"
     ]
    },
    {
     "name": "stderr",
     "output_type": "stream",
     "text": [
      "/home/gustavo/anaconda2/lib/python2.7/site-packages/ipykernel_launcher.py:26: UserWarning: loadtxt: Empty input file: \"/home/gustavo/Downloads/preprocessed_connectomes/derivatives/ds000115/sub-04_ses-retest_task-letter2backtask_run-01_desc-schaefer100x7_connectome.1D\"\n",
      "/home/gustavo/anaconda2/lib/python2.7/site-packages/ipykernel_launcher.py:26: UserWarning: loadtxt: Empty input file: \"/home/gustavo/Downloads/preprocessed_connectomes/derivatives/ds000115/sub-04_ses-retest_task-letter1backtask_run-01_desc-schaefer100x7_connectome.1D\"\n",
      "/home/gustavo/anaconda2/lib/python2.7/site-packages/ipykernel_launcher.py:26: UserWarning: loadtxt: Empty input file: \"/home/gustavo/Downloads/preprocessed_connectomes/derivatives/ds000115/sub-33_ses-retest_task-letter1backtask_run-01_desc-schaefer100x7_connectome.1D\"\n",
      "/home/gustavo/anaconda2/lib/python2.7/site-packages/ipykernel_launcher.py:26: UserWarning: loadtxt: Empty input file: \"/home/gustavo/Downloads/preprocessed_connectomes/derivatives/ds000115/sub-79_ses-retest_task-letter2backtask_run-01_desc-schaefer100x7_connectome.1D\"\n",
      "/home/gustavo/anaconda2/lib/python2.7/site-packages/ipykernel_launcher.py:26: UserWarning: loadtxt: Empty input file: \"/home/gustavo/Downloads/preprocessed_connectomes/derivatives/ds000115/sub-67_ses-retest_task-letter2backtask_run-01_desc-schaefer100x7_connectome.1D\"\n",
      "/home/gustavo/anaconda2/lib/python2.7/site-packages/ipykernel_launcher.py:26: UserWarning: loadtxt: Empty input file: \"/home/gustavo/Downloads/preprocessed_connectomes/derivatives/ds000115/sub-33_ses-retest_task-letter2backtask_run-01_desc-schaefer100x7_connectome.1D\"\n",
      "/home/gustavo/anaconda2/lib/python2.7/site-packages/ipykernel_launcher.py:26: UserWarning: loadtxt: Empty input file: \"/home/gustavo/Downloads/preprocessed_connectomes/derivatives/ds000115/sub-04_ses-retest_task-letter0backtask_run-01_desc-schaefer100x7_connectome.1D\"\n",
      "/home/gustavo/anaconda2/lib/python2.7/site-packages/ipykernel_launcher.py:26: UserWarning: loadtxt: Empty input file: \"/home/gustavo/Downloads/preprocessed_connectomes/derivatives/ds000115/sub-67_ses-retest_task-letter1backtask_run-01_desc-schaefer100x7_connectome.1D\"\n",
      "/home/gustavo/anaconda2/lib/python2.7/site-packages/ipykernel_launcher.py:26: UserWarning: loadtxt: Empty input file: \"/home/gustavo/Downloads/preprocessed_connectomes/derivatives/ds000115/sub-33_ses-retest_task-letter0backtask_run-01_desc-schaefer100x7_connectome.1D\"\n",
      "/home/gustavo/anaconda2/lib/python2.7/site-packages/ipykernel_launcher.py:26: UserWarning: loadtxt: Empty input file: \"/home/gustavo/Downloads/preprocessed_connectomes/derivatives/ds000115/sub-67_ses-retest_task-letter0backtask_run-01_desc-schaefer100x7_connectome.1D\"\n"
     ]
    },
    {
     "name": "stdout",
     "output_type": "stream",
     "text": [
      "/home/gustavo/Downloads/preprocessed_connectomes/derivatives/ds000053\n",
      "/home/gustavo/Downloads/preprocessed_connectomes/derivatives/ds000237\n",
      "/home/gustavo/Downloads/preprocessed_connectomes/derivatives/ds000121\n",
      "/home/gustavo/Downloads/preprocessed_connectomes/derivatives/ds000220\n",
      "/home/gustavo/Downloads/preprocessed_connectomes/derivatives/ds000205\n",
      "/home/gustavo/Downloads/preprocessed_connectomes/derivatives/ds000171\n",
      "/home/gustavo/Downloads/preprocessed_connectomes/derivatives/ds000101\n",
      "/home/gustavo/Downloads/preprocessed_connectomes/derivatives/ds000213\n",
      "/home/gustavo/Downloads/preprocessed_connectomes/derivatives/ds000223\n",
      "/home/gustavo/Downloads/preprocessed_connectomes/derivatives/ds000157\n",
      "/home/gustavo/Downloads/preprocessed_connectomes/derivatives/ds000107\n",
      "/home/gustavo/Downloads/preprocessed_connectomes/derivatives/ds000051\n",
      "/home/gustavo/Downloads/preprocessed_connectomes/derivatives/ds000031\n"
     ]
    },
    {
     "name": "stderr",
     "output_type": "stream",
     "text": [
      "/home/gustavo/anaconda2/lib/python2.7/site-packages/ipykernel_launcher.py:26: UserWarning: loadtxt: Empty input file: \"/home/gustavo/Downloads/preprocessed_connectomes/derivatives/ds000031/sub-01_ses-012_task-rest_run-001_desc-schaefer100x7_connectome.1D\"\n",
      "/home/gustavo/anaconda2/lib/python2.7/site-packages/ipykernel_launcher.py:26: UserWarning: loadtxt: Empty input file: \"/home/gustavo/Downloads/preprocessed_connectomes/derivatives/ds000031/sub-01_ses-104_task-spatialwm_run-001_desc-schaefer100x7_connectome.1D\"\n",
      "/home/gustavo/anaconda2/lib/python2.7/site-packages/ipykernel_launcher.py:26: UserWarning: loadtxt: Empty input file: \"/home/gustavo/Downloads/preprocessed_connectomes/derivatives/ds000031/sub-01_ses-094_task-rest_run-001_desc-schaefer100x7_connectome.1D\"\n",
      "/home/gustavo/anaconda2/lib/python2.7/site-packages/ipykernel_launcher.py:26: UserWarning: loadtxt: Empty input file: \"/home/gustavo/Downloads/preprocessed_connectomes/derivatives/ds000031/sub-01_ses-095_task-rest_run-001_desc-schaefer100x7_connectome.1D\"\n",
      "/home/gustavo/anaconda2/lib/python2.7/site-packages/ipykernel_launcher.py:26: UserWarning: loadtxt: Empty input file: \"/home/gustavo/Downloads/preprocessed_connectomes/derivatives/ds000031/sub-01_ses-097_task-rest_run-001_desc-schaefer100x7_connectome.1D\"\n"
     ]
    },
    {
     "name": "stdout",
     "output_type": "stream",
     "text": [
      "/home/gustavo/Downloads/preprocessed_connectomes/derivatives/ds000017\n",
      "/home/gustavo/Downloads/preprocessed_connectomes/derivatives/ds000229\n",
      "/home/gustavo/Downloads/preprocessed_connectomes/derivatives/ds000200\n",
      "/home/gustavo/Downloads/preprocessed_connectomes/derivatives/ds000243\n",
      "/home/gustavo/Downloads/preprocessed_connectomes/derivatives/ds000002\n",
      "/home/gustavo/Downloads/preprocessed_connectomes/derivatives/ds000140\n"
     ]
    },
    {
     "name": "stderr",
     "output_type": "stream",
     "text": [
      "/home/gustavo/anaconda2/lib/python2.7/site-packages/ipykernel_launcher.py:26: UserWarning: loadtxt: Empty input file: \"/home/gustavo/Downloads/preprocessed_connectomes/derivatives/ds000140/sub-32_ses-pre_task-heatpainwithregulationandratings_run-02_desc-schaefer100x7_connectome.1D\"\n",
      "/home/gustavo/anaconda2/lib/python2.7/site-packages/ipykernel_launcher.py:26: UserWarning: loadtxt: Empty input file: \"/home/gustavo/Downloads/preprocessed_connectomes/derivatives/ds000140/sub-32_ses-pre_task-heatpainwithregulationandratings_run-06_desc-schaefer100x7_connectome.1D\"\n",
      "/home/gustavo/anaconda2/lib/python2.7/site-packages/ipykernel_launcher.py:26: UserWarning: loadtxt: Empty input file: \"/home/gustavo/Downloads/preprocessed_connectomes/derivatives/ds000140/sub-05_ses-pre_task-heatpainwithregulationandratings_run-06_desc-schaefer100x7_connectome.1D\"\n",
      "/home/gustavo/anaconda2/lib/python2.7/site-packages/ipykernel_launcher.py:26: UserWarning: loadtxt: Empty input file: \"/home/gustavo/Downloads/preprocessed_connectomes/derivatives/ds000140/sub-33_ses-pre_task-heatpainwithregulationandratings_run-06_desc-schaefer100x7_connectome.1D\"\n",
      "/home/gustavo/anaconda2/lib/python2.7/site-packages/ipykernel_launcher.py:26: UserWarning: loadtxt: Empty input file: \"/home/gustavo/Downloads/preprocessed_connectomes/derivatives/ds000140/sub-32_ses-pre_task-heatpainwithregulationandratings_run-05_desc-schaefer100x7_connectome.1D\"\n",
      "/home/gustavo/anaconda2/lib/python2.7/site-packages/ipykernel_launcher.py:26: UserWarning: loadtxt: Empty input file: \"/home/gustavo/Downloads/preprocessed_connectomes/derivatives/ds000140/sub-33_ses-pre_task-heatpainwithregulationandratings_run-01_desc-schaefer100x7_connectome.1D\"\n",
      "/home/gustavo/anaconda2/lib/python2.7/site-packages/ipykernel_launcher.py:26: UserWarning: loadtxt: Empty input file: \"/home/gustavo/Downloads/preprocessed_connectomes/derivatives/ds000140/sub-33_ses-pre_task-heatpainwithregulationandratings_run-08_desc-schaefer100x7_connectome.1D\"\n",
      "/home/gustavo/anaconda2/lib/python2.7/site-packages/ipykernel_launcher.py:26: UserWarning: loadtxt: Empty input file: \"/home/gustavo/Downloads/preprocessed_connectomes/derivatives/ds000140/sub-32_ses-pre_task-heatpainwithregulationandratings_run-09_desc-schaefer100x7_connectome.1D\"\n",
      "/home/gustavo/anaconda2/lib/python2.7/site-packages/ipykernel_launcher.py:26: UserWarning: loadtxt: Empty input file: \"/home/gustavo/Downloads/preprocessed_connectomes/derivatives/ds000140/sub-32_ses-pre_task-heatpainwithregulationandratings_run-08_desc-schaefer100x7_connectome.1D\"\n",
      "/home/gustavo/anaconda2/lib/python2.7/site-packages/ipykernel_launcher.py:26: UserWarning: loadtxt: Empty input file: \"/home/gustavo/Downloads/preprocessed_connectomes/derivatives/ds000140/sub-32_ses-pre_task-heatpainwithregulationandratings_run-01_desc-schaefer100x7_connectome.1D\"\n",
      "/home/gustavo/anaconda2/lib/python2.7/site-packages/ipykernel_launcher.py:26: UserWarning: loadtxt: Empty input file: \"/home/gustavo/Downloads/preprocessed_connectomes/derivatives/ds000140/sub-33_ses-pre_task-heatpainwithregulationandratings_run-09_desc-schaefer100x7_connectome.1D\"\n",
      "/home/gustavo/anaconda2/lib/python2.7/site-packages/ipykernel_launcher.py:26: UserWarning: loadtxt: Empty input file: \"/home/gustavo/Downloads/preprocessed_connectomes/derivatives/ds000140/sub-33_ses-pre_task-heatpainwithregulationandratings_run-05_desc-schaefer100x7_connectome.1D\"\n",
      "/home/gustavo/anaconda2/lib/python2.7/site-packages/ipykernel_launcher.py:26: UserWarning: loadtxt: Empty input file: \"/home/gustavo/Downloads/preprocessed_connectomes/derivatives/ds000140/sub-05_ses-pre_task-heatpainwithregulationandratings_run-08_desc-schaefer100x7_connectome.1D\"\n",
      "/home/gustavo/anaconda2/lib/python2.7/site-packages/ipykernel_launcher.py:26: UserWarning: loadtxt: Empty input file: \"/home/gustavo/Downloads/preprocessed_connectomes/derivatives/ds000140/sub-05_ses-pre_task-heatpainwithregulationandratings_run-09_desc-schaefer100x7_connectome.1D\"\n",
      "/home/gustavo/anaconda2/lib/python2.7/site-packages/ipykernel_launcher.py:26: UserWarning: loadtxt: Empty input file: \"/home/gustavo/Downloads/preprocessed_connectomes/derivatives/ds000140/sub-32_ses-pre_task-heatpainwithregulationandratings_run-04_desc-schaefer100x7_connectome.1D\"\n",
      "/home/gustavo/anaconda2/lib/python2.7/site-packages/ipykernel_launcher.py:26: UserWarning: loadtxt: Empty input file: \"/home/gustavo/Downloads/preprocessed_connectomes/derivatives/ds000140/sub-33_ses-pre_task-heatpainwithregulationandratings_run-04_desc-schaefer100x7_connectome.1D\"\n",
      "/home/gustavo/anaconda2/lib/python2.7/site-packages/ipykernel_launcher.py:26: UserWarning: loadtxt: Empty input file: \"/home/gustavo/Downloads/preprocessed_connectomes/derivatives/ds000140/sub-33_ses-pre_task-heatpainwithregulationandratings_run-02_desc-schaefer100x7_connectome.1D\"\n"
     ]
    },
    {
     "name": "stdout",
     "output_type": "stream",
     "text": [
      "/home/gustavo/Downloads/preprocessed_connectomes/derivatives/ds000221\n",
      "/home/gustavo/Downloads/preprocessed_connectomes/derivatives/ds000228\n",
      "/home/gustavo/Downloads/preprocessed_connectomes/derivatives/ds000164\n",
      "/home/gustavo/Downloads/preprocessed_connectomes/derivatives/ds000003\n",
      "/home/gustavo/Downloads/preprocessed_connectomes/derivatives/ds000214\n"
     ]
    },
    {
     "name": "stderr",
     "output_type": "stream",
     "text": [
      "/home/gustavo/anaconda2/lib/python2.7/site-packages/ipykernel_launcher.py:26: UserWarning: loadtxt: Empty input file: \"/home/gustavo/Downloads/preprocessed_connectomes/derivatives/ds000214/sub-EESS033_ses-pre_task-Cyberball_run-01_desc-schaefer100x7_connectome.1D\"\n",
      "/home/gustavo/anaconda2/lib/python2.7/site-packages/ipykernel_launcher.py:26: UserWarning: loadtxt: Empty input file: \"/home/gustavo/Downloads/preprocessed_connectomes/derivatives/ds000214/sub-EESS034_ses-pre_task-Cyberball_run-01_desc-schaefer100x7_connectome.1D\"\n",
      "/home/gustavo/anaconda2/lib/python2.7/site-packages/ipykernel_launcher.py:26: UserWarning: loadtxt: Empty input file: \"/home/gustavo/Downloads/preprocessed_connectomes/derivatives/ds000214/sub-EESS031_ses-pre_task-Cyberball_run-01_desc-schaefer100x7_connectome.1D\"\n",
      "/home/gustavo/anaconda2/lib/python2.7/site-packages/ipykernel_launcher.py:26: UserWarning: loadtxt: Empty input file: \"/home/gustavo/Downloads/preprocessed_connectomes/derivatives/ds000214/sub-EESS006_ses-pre_task-Cyberball_run-01_desc-schaefer100x7_connectome.1D\"\n"
     ]
    },
    {
     "name": "stdout",
     "output_type": "stream",
     "text": [
      "/home/gustavo/Downloads/preprocessed_connectomes/derivatives/ds000231\n",
      "/home/gustavo/Downloads/preprocessed_connectomes/derivatives/ds000105\n",
      "/home/gustavo/Downloads/preprocessed_connectomes/derivatives/ds000120\n",
      "/home/gustavo/Downloads/preprocessed_connectomes/derivatives/ds000208\n",
      "/home/gustavo/Downloads/preprocessed_connectomes/derivatives/ds000008\n"
     ]
    }
   ],
   "source": [
    "import os\n",
    "from sklearn.decomposition import PCA\n",
    "import numpy as np\n",
    "import re\n",
    "\n",
    "\n",
    "main_folder = '/home/gustavo/Downloads/preprocessed_connectomes/derivatives/'\n",
    "list_directories = [x[0] for x in os.walk(main_folder)]\n",
    "del list_directories[0]\n",
    "num_features = 4950\n",
    "num_samples = 0\n",
    "for dir in list_directories: #initial run to get number of  files\n",
    "    list_file = os.listdir(dir)\n",
    "    num_samples += len(list_file)\n",
    "connectome_list = []\n",
    "task_list = []\n",
    "ii=0\n",
    "lengths=[]\n",
    "# Walk through files and load into feature matrix\n",
    "for dir in list_directories:\n",
    "    print(dir)\n",
    "    list_file = os.listdir(dir)\n",
    "    #print(list_file)\n",
    "    for file_name in list_file:\n",
    "        #print(dir+'/'+file_name)\n",
    "        a = np.loadtxt(dir+'/'+file_name)\n",
    "        task = re.search('task-(.*)_run', file_name)\n",
    "        #print(task.group(1))\n",
    "        if np.isnan(a).any():\n",
    "            continue\n",
    "        if num_features==len(a):\n",
    "            connectome_list.append(a)\n",
    "            task_list.append(task.group(1))    \n",
    "            ii+=1\n",
    "        #text_file = open(dir+'/'+file_name, \"r\")\n",
    "        #lines = text_file.readlines()\n",
    "        #print(lines)\n",
    "        #continue\n"
   ]
  },
  {
   "cell_type": "code",
   "execution_count": 4,
   "metadata": {},
   "outputs": [
    {
     "data": {
      "text/plain": [
       "1378"
      ]
     },
     "execution_count": 4,
     "metadata": {},
     "output_type": "execute_result"
    }
   ],
   "source": [
    "connectome_features = np.array(connectome_list)\n",
    "connectome_features.shape\n",
    "len(task_list)"
   ]
  },
  {
   "cell_type": "code",
   "execution_count": 5,
   "metadata": {},
   "outputs": [
    {
     "data": {
      "text/plain": [
       "90"
      ]
     },
     "execution_count": 5,
     "metadata": {},
     "output_type": "execute_result"
    }
   ],
   "source": [
    "import pandas as pd\n",
    "labels, uniques = pd.factorize(task_list)\n",
    "len(uniques)\n"
   ]
  },
  {
   "cell_type": "code",
   "execution_count": 14,
   "metadata": {},
   "outputs": [],
   "source": [
    "import scipy.io as scio\n",
    "mat={}\n",
    "mat['connectome_features'] = np.squeeze(connectome_features)\n",
    "mat['task_label'] = labels.reshape(-1,1)\n",
    "mat['task_index'] = uniques\n",
    "scio.savemat(file_name='connectome_features_100',mdict=mat)"
   ]
  },
  {
   "cell_type": "code",
   "execution_count": 12,
   "metadata": {},
   "outputs": [
    {
     "data": {
      "text/plain": [
       "(1378,)"
      ]
     },
     "execution_count": 12,
     "metadata": {},
     "output_type": "execute_result"
    }
   ],
   "source": [
    "labels.shape"
   ]
  },
  {
   "cell_type": "code",
   "execution_count": 8,
   "metadata": {},
   "outputs": [
    {
     "data": {
      "text/plain": [
       "'tax'"
      ]
     },
     "execution_count": 8,
     "metadata": {},
     "output_type": "execute_result"
    }
   ],
   "source": [
    "task_list[0]"
   ]
  },
  {
   "cell_type": "code",
   "execution_count": 9,
   "metadata": {},
   "outputs": [
    {
     "data": {
      "text/plain": [
       "'conditionalstopsignal'"
      ]
     },
     "execution_count": 9,
     "metadata": {},
     "output_type": "execute_result"
    }
   ],
   "source": [
    "task_list[-1]"
   ]
  },
  {
   "cell_type": "code",
   "execution_count": 10,
   "metadata": {},
   "outputs": [
    {
     "data": {
      "text/plain": [
       "'tax'"
      ]
     },
     "execution_count": 10,
     "metadata": {},
     "output_type": "execute_result"
    }
   ],
   "source": [
    "uniques[0]"
   ]
  },
  {
   "cell_type": "code",
   "execution_count": 11,
   "metadata": {},
   "outputs": [
    {
     "ename": "IndexError",
     "evalue": "index 90 is out of bounds for axis 0 with size 90",
     "output_type": "error",
     "traceback": [
      "\u001b[0;31m---------------------------------------------------------------------------\u001b[0m",
      "\u001b[0;31mIndexError\u001b[0m                                Traceback (most recent call last)",
      "\u001b[0;32m<ipython-input-11-eb068e7b94b0>\u001b[0m in \u001b[0;36m<module>\u001b[0;34m()\u001b[0m\n\u001b[0;32m----> 1\u001b[0;31m \u001b[0muniques\u001b[0m\u001b[0;34m[\u001b[0m\u001b[0;36m90\u001b[0m\u001b[0;34m]\u001b[0m\u001b[0;34m\u001b[0m\u001b[0m\n\u001b[0m",
      "\u001b[0;31mIndexError\u001b[0m: index 90 is out of bounds for axis 0 with size 90"
     ]
    }
   ],
   "source": [
    "uniques[90]"
   ]
  },
  {
   "cell_type": "code",
   "execution_count": null,
   "metadata": {},
   "outputs": [],
   "source": []
  }
 ],
 "metadata": {
  "kernelspec": {
   "display_name": "Python 2",
   "language": "python",
   "name": "python2"
  },
  "language_info": {
   "codemirror_mode": {
    "name": "ipython",
    "version": 2
   },
   "file_extension": ".py",
   "mimetype": "text/x-python",
   "name": "python",
   "nbconvert_exporter": "python",
   "pygments_lexer": "ipython2",
   "version": "2.7.16"
  }
 },
 "nbformat": 4,
 "nbformat_minor": 2
}
